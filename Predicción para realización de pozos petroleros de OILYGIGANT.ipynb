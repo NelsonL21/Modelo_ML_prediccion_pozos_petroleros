{
 "cells": [
  {
   "cell_type": "markdown",
   "metadata": {
    "id": "Y9bjWZxzeH4l"
   },
   "source": [
    "# <h1> **PREDICCIÓN PARA HACER POZOS PETROLEROS DE OILYGIGANT** </h1>"
   ]
  },
  {
   "cell_type": "markdown",
   "metadata": {
    "id": "uGg2yMmyed6J"
   },
   "source": [
    "## **DESCRIPCIÓN DEL PROYECTO** "
   ]
  },
  {
   "cell_type": "markdown",
   "metadata": {
    "id": "MC2OvcZOgdms"
   },
   "source": [
    "La compañía minera OilyGiant busca encontrar el mejor lugar para un nuevo pozo.\n",
    "Pasos para elegir la ubicación:\n",
    "* Recolecta los parámetros del pozo de petróleo en la región seleccionada: calidad del petróleo y volumen de reservas;\n",
    "* Construye un modelo para predecir el volumen de reservas en los nuevos pozos;\n",
    "* Selecciona los pozos de petróleo con los valores estimados más altos;\n",
    "* Elige la región con el mayor beneficio total para los pozos de petróleo seleccionados.\n",
    "\n",
    "\n",
    "Tienes datos sobre muestras de crudo de tres regiones. Ya se conocen los parámetros de cada pozo petrolero de la región. Crea un modelo que ayude a elegir la región con el mayor margen de beneficio. Analiza los beneficios y riesgos potenciales utilizando la técnica bootstrapping\n",
    "Descripción de datos\n",
    "\n",
    "\n",
    "Los datos de exploración geológica de las tres regiones se almacenan en archivos:\n",
    "\n",
    "\n",
    "* geo_data_0.csv. Descarga el conjunto de datos\n",
    "* geo_data_1.csv. Descarga el conjunto de datos\n",
    "* geo_data_2.csv. Descarga el conjunto de datos\n",
    "* id — identificador único de pozo de petróleo\n",
    "* f0, f1, f2 — tres características de los puntos (su significado específico no es importante, pero las características en sí son significativas)\n",
    "* product — volumen de reservas en el pozo de petróleo (miles de barriles)."
   ]
  },
  {
   "cell_type": "markdown",
   "metadata": {
    "id": "g5KAcfJohEol"
   },
   "source": [
    "## **LIBRERÍAS**"
   ]
  },
  {
   "cell_type": "code",
   "execution_count": 431,
   "metadata": {
    "id": "7FHWE78ZWIqr"
   },
   "outputs": [],
   "source": [
    "import pandas as pd\n",
    "import numpy as np\n",
    "from sklearn.linear_model import LinearRegression\n",
    "from sklearn.model_selection import train_test_split\n",
    "from sklearn.metrics import mean_squared_error\n",
    "from matplotlib import pyplot as plt\n",
    "from math import factorial\n",
    "from scipy import stats as st\n"
   ]
  },
  {
   "cell_type": "markdown",
   "metadata": {
    "id": "XLzJksmqhJjl"
   },
   "source": [
    "## **PREPROCESAMIENTO DE DATOS** "
   ]
  },
  {
   "cell_type": "markdown",
   "metadata": {
    "id": "kWtHNfg1hlVe"
   },
   "source": [
    "Primeramente se importan los datos"
   ]
  },
  {
   "cell_type": "code",
   "execution_count": 432,
   "metadata": {
    "id": "TKQg-QroWs_g"
   },
   "outputs": [],
   "source": [
    "try:\n",
    "  geo0 = pd.read_csv('/content/drive/MyDrive/practicum/Sprint9/geo_data_0.csv')\n",
    "  geo1 = pd.read_csv('/content/drive/MyDrive/practicum/Sprint9/geo_data_1.csv')\n",
    "  geo2 = pd.read_csv('/content/drive/MyDrive/practicum/Sprint9/geo_data_2.csv')\n",
    "except:\n",
    "  geo0 = pd.read_csv('/datasets/geo_data_0.csv')\n",
    "  geo2 = pd.read_csv('/datasets/geo_data_1.csv')\n",
    "  geo2 = pd.read_csv('/datasets/geo_data_2.csv')"
   ]
  },
  {
   "cell_type": "markdown",
   "metadata": {
    "id": "SZ-1GMQzhpHp"
   },
   "source": [
    "Luego se observa el primer DataFrame y que valores contine"
   ]
  },
  {
   "cell_type": "code",
   "execution_count": 433,
   "metadata": {
    "colab": {
     "base_uri": "https://localhost:8080/",
     "height": 0
    },
    "id": "bwi0HFPtlIdU",
    "outputId": "5d591dc8-7331-4415-9570-8047f00efad7"
   },
   "outputs": [
    {
     "data": {
      "text/html": [
       "\n",
       "  <div id=\"df-033fd151-ef5e-45fb-a650-d7fa7e8f3b86\">\n",
       "    <div class=\"colab-df-container\">\n",
       "      <div>\n",
       "<style scoped>\n",
       "    .dataframe tbody tr th:only-of-type {\n",
       "        vertical-align: middle;\n",
       "    }\n",
       "\n",
       "    .dataframe tbody tr th {\n",
       "        vertical-align: top;\n",
       "    }\n",
       "\n",
       "    .dataframe thead th {\n",
       "        text-align: right;\n",
       "    }\n",
       "</style>\n",
       "<table border=\"1\" class=\"dataframe\">\n",
       "  <thead>\n",
       "    <tr style=\"text-align: right;\">\n",
       "      <th></th>\n",
       "      <th>id</th>\n",
       "      <th>f0</th>\n",
       "      <th>f1</th>\n",
       "      <th>f2</th>\n",
       "      <th>product</th>\n",
       "    </tr>\n",
       "  </thead>\n",
       "  <tbody>\n",
       "    <tr>\n",
       "      <th>0</th>\n",
       "      <td>txEyH</td>\n",
       "      <td>0.705745</td>\n",
       "      <td>-0.497823</td>\n",
       "      <td>1.221170</td>\n",
       "      <td>105.280062</td>\n",
       "    </tr>\n",
       "    <tr>\n",
       "      <th>1</th>\n",
       "      <td>2acmU</td>\n",
       "      <td>1.334711</td>\n",
       "      <td>-0.340164</td>\n",
       "      <td>4.365080</td>\n",
       "      <td>73.037750</td>\n",
       "    </tr>\n",
       "    <tr>\n",
       "      <th>2</th>\n",
       "      <td>409Wp</td>\n",
       "      <td>1.022732</td>\n",
       "      <td>0.151990</td>\n",
       "      <td>1.419926</td>\n",
       "      <td>85.265647</td>\n",
       "    </tr>\n",
       "    <tr>\n",
       "      <th>3</th>\n",
       "      <td>iJLyR</td>\n",
       "      <td>-0.032172</td>\n",
       "      <td>0.139033</td>\n",
       "      <td>2.978566</td>\n",
       "      <td>168.620776</td>\n",
       "    </tr>\n",
       "    <tr>\n",
       "      <th>4</th>\n",
       "      <td>Xdl7t</td>\n",
       "      <td>1.988431</td>\n",
       "      <td>0.155413</td>\n",
       "      <td>4.751769</td>\n",
       "      <td>154.036647</td>\n",
       "    </tr>\n",
       "  </tbody>\n",
       "</table>\n",
       "</div>\n",
       "      <button class=\"colab-df-convert\" onclick=\"convertToInteractive('df-033fd151-ef5e-45fb-a650-d7fa7e8f3b86')\"\n",
       "              title=\"Convert this dataframe to an interactive table.\"\n",
       "              style=\"display:none;\">\n",
       "        \n",
       "  <svg xmlns=\"http://www.w3.org/2000/svg\" height=\"24px\"viewBox=\"0 0 24 24\"\n",
       "       width=\"24px\">\n",
       "    <path d=\"M0 0h24v24H0V0z\" fill=\"none\"/>\n",
       "    <path d=\"M18.56 5.44l.94 2.06.94-2.06 2.06-.94-2.06-.94-.94-2.06-.94 2.06-2.06.94zm-11 1L8.5 8.5l.94-2.06 2.06-.94-2.06-.94L8.5 2.5l-.94 2.06-2.06.94zm10 10l.94 2.06.94-2.06 2.06-.94-2.06-.94-.94-2.06-.94 2.06-2.06.94z\"/><path d=\"M17.41 7.96l-1.37-1.37c-.4-.4-.92-.59-1.43-.59-.52 0-1.04.2-1.43.59L10.3 9.45l-7.72 7.72c-.78.78-.78 2.05 0 2.83L4 21.41c.39.39.9.59 1.41.59.51 0 1.02-.2 1.41-.59l7.78-7.78 2.81-2.81c.8-.78.8-2.07 0-2.86zM5.41 20L4 18.59l7.72-7.72 1.47 1.35L5.41 20z\"/>\n",
       "  </svg>\n",
       "      </button>\n",
       "      \n",
       "  <style>\n",
       "    .colab-df-container {\n",
       "      display:flex;\n",
       "      flex-wrap:wrap;\n",
       "      gap: 12px;\n",
       "    }\n",
       "\n",
       "    .colab-df-convert {\n",
       "      background-color: #E8F0FE;\n",
       "      border: none;\n",
       "      border-radius: 50%;\n",
       "      cursor: pointer;\n",
       "      display: none;\n",
       "      fill: #1967D2;\n",
       "      height: 32px;\n",
       "      padding: 0 0 0 0;\n",
       "      width: 32px;\n",
       "    }\n",
       "\n",
       "    .colab-df-convert:hover {\n",
       "      background-color: #E2EBFA;\n",
       "      box-shadow: 0px 1px 2px rgba(60, 64, 67, 0.3), 0px 1px 3px 1px rgba(60, 64, 67, 0.15);\n",
       "      fill: #174EA6;\n",
       "    }\n",
       "\n",
       "    [theme=dark] .colab-df-convert {\n",
       "      background-color: #3B4455;\n",
       "      fill: #D2E3FC;\n",
       "    }\n",
       "\n",
       "    [theme=dark] .colab-df-convert:hover {\n",
       "      background-color: #434B5C;\n",
       "      box-shadow: 0px 1px 3px 1px rgba(0, 0, 0, 0.15);\n",
       "      filter: drop-shadow(0px 1px 2px rgba(0, 0, 0, 0.3));\n",
       "      fill: #FFFFFF;\n",
       "    }\n",
       "  </style>\n",
       "\n",
       "      <script>\n",
       "        const buttonEl =\n",
       "          document.querySelector('#df-033fd151-ef5e-45fb-a650-d7fa7e8f3b86 button.colab-df-convert');\n",
       "        buttonEl.style.display =\n",
       "          google.colab.kernel.accessAllowed ? 'block' : 'none';\n",
       "\n",
       "        async function convertToInteractive(key) {\n",
       "          const element = document.querySelector('#df-033fd151-ef5e-45fb-a650-d7fa7e8f3b86');\n",
       "          const dataTable =\n",
       "            await google.colab.kernel.invokeFunction('convertToInteractive',\n",
       "                                                     [key], {});\n",
       "          if (!dataTable) return;\n",
       "\n",
       "          const docLinkHtml = 'Like what you see? Visit the ' +\n",
       "            '<a target=\"_blank\" href=https://colab.research.google.com/notebooks/data_table.ipynb>data table notebook</a>'\n",
       "            + ' to learn more about interactive tables.';\n",
       "          element.innerHTML = '';\n",
       "          dataTable['output_type'] = 'display_data';\n",
       "          await google.colab.output.renderOutput(dataTable, element);\n",
       "          const docLink = document.createElement('div');\n",
       "          docLink.innerHTML = docLinkHtml;\n",
       "          element.appendChild(docLink);\n",
       "        }\n",
       "      </script>\n",
       "    </div>\n",
       "  </div>\n",
       "  "
      ],
      "text/plain": [
       "      id        f0        f1        f2     product\n",
       "0  txEyH  0.705745 -0.497823  1.221170  105.280062\n",
       "1  2acmU  1.334711 -0.340164  4.365080   73.037750\n",
       "2  409Wp  1.022732  0.151990  1.419926   85.265647\n",
       "3  iJLyR -0.032172  0.139033  2.978566  168.620776\n",
       "4  Xdl7t  1.988431  0.155413  4.751769  154.036647"
      ]
     },
     "execution_count": 433,
     "metadata": {},
     "output_type": "execute_result"
    }
   ],
   "source": [
    "geo0.head()"
   ]
  },
  {
   "cell_type": "markdown",
   "metadata": {
    "id": "ubClrNI8hwBu"
   },
   "source": [
    "Se buscan valores ausentes o errores en tipos de datos"
   ]
  },
  {
   "cell_type": "code",
   "execution_count": 434,
   "metadata": {
    "colab": {
     "base_uri": "https://localhost:8080/"
    },
    "id": "9UTZrwyllXNW",
    "outputId": "2e5fd1f5-ba58-423b-ff9e-46f9f4f9b014"
   },
   "outputs": [
    {
     "name": "stdout",
     "output_type": "stream",
     "text": [
      "<class 'pandas.core.frame.DataFrame'>\n",
      "RangeIndex: 100000 entries, 0 to 99999\n",
      "Data columns (total 5 columns):\n",
      " #   Column   Non-Null Count   Dtype  \n",
      "---  ------   --------------   -----  \n",
      " 0   id       100000 non-null  object \n",
      " 1   f0       100000 non-null  float64\n",
      " 2   f1       100000 non-null  float64\n",
      " 3   f2       100000 non-null  float64\n",
      " 4   product  100000 non-null  float64\n",
      "dtypes: float64(4), object(1)\n",
      "memory usage: 3.8+ MB\n"
     ]
    }
   ],
   "source": [
    "geo0.info()"
   ]
  },
  {
   "cell_type": "markdown",
   "metadata": {
    "id": "wWklzn8Bh54K"
   },
   "source": [
    "Se concluye que para poder realizar el modelo de ML es necesario eliminar la columna de id ya que esta no aporta información relevante a la predicción"
   ]
  },
  {
   "cell_type": "code",
   "execution_count": 435,
   "metadata": {
    "colab": {
     "base_uri": "https://localhost:8080/"
    },
    "id": "nc52RYEGsotg",
    "outputId": "88dd7985-562d-4745-f360-34c3e7eb850b"
   },
   "outputs": [
    {
     "name": "stdout",
     "output_type": "stream",
     "text": [
      "<class 'pandas.core.frame.DataFrame'>\n",
      "RangeIndex: 100000 entries, 0 to 99999\n",
      "Data columns (total 4 columns):\n",
      " #   Column   Non-Null Count   Dtype  \n",
      "---  ------   --------------   -----  \n",
      " 0   f0       100000 non-null  float64\n",
      " 1   f1       100000 non-null  float64\n",
      " 2   f2       100000 non-null  float64\n",
      " 3   product  100000 non-null  float64\n",
      "dtypes: float64(4)\n",
      "memory usage: 3.1 MB\n"
     ]
    }
   ],
   "source": [
    "geo0_predict = geo0.drop(['id'], axis = 1)\n",
    "geo0_predict.info()"
   ]
  },
  {
   "cell_type": "markdown",
   "metadata": {
    "id": "7DG56VNViCym"
   },
   "source": [
    "Se repide el mismo procedimeinto con los otros dos DataFrames"
   ]
  },
  {
   "cell_type": "code",
   "execution_count": 436,
   "metadata": {
    "colab": {
     "base_uri": "https://localhost:8080/",
     "height": 0
    },
    "id": "qKedUi4clLCT",
    "outputId": "a2ff2ad9-bad1-44e1-b311-8043fdf5cf2a"
   },
   "outputs": [
    {
     "data": {
      "text/html": [
       "\n",
       "  <div id=\"df-860137c0-cc3f-450d-bdbe-f2dbd8ff2753\">\n",
       "    <div class=\"colab-df-container\">\n",
       "      <div>\n",
       "<style scoped>\n",
       "    .dataframe tbody tr th:only-of-type {\n",
       "        vertical-align: middle;\n",
       "    }\n",
       "\n",
       "    .dataframe tbody tr th {\n",
       "        vertical-align: top;\n",
       "    }\n",
       "\n",
       "    .dataframe thead th {\n",
       "        text-align: right;\n",
       "    }\n",
       "</style>\n",
       "<table border=\"1\" class=\"dataframe\">\n",
       "  <thead>\n",
       "    <tr style=\"text-align: right;\">\n",
       "      <th></th>\n",
       "      <th>id</th>\n",
       "      <th>f0</th>\n",
       "      <th>f1</th>\n",
       "      <th>f2</th>\n",
       "      <th>product</th>\n",
       "    </tr>\n",
       "  </thead>\n",
       "  <tbody>\n",
       "    <tr>\n",
       "      <th>0</th>\n",
       "      <td>kBEdx</td>\n",
       "      <td>-15.001348</td>\n",
       "      <td>-8.276000</td>\n",
       "      <td>-0.005876</td>\n",
       "      <td>3.179103</td>\n",
       "    </tr>\n",
       "    <tr>\n",
       "      <th>1</th>\n",
       "      <td>62mP7</td>\n",
       "      <td>14.272088</td>\n",
       "      <td>-3.475083</td>\n",
       "      <td>0.999183</td>\n",
       "      <td>26.953261</td>\n",
       "    </tr>\n",
       "    <tr>\n",
       "      <th>2</th>\n",
       "      <td>vyE1P</td>\n",
       "      <td>6.263187</td>\n",
       "      <td>-5.948386</td>\n",
       "      <td>5.001160</td>\n",
       "      <td>134.766305</td>\n",
       "    </tr>\n",
       "    <tr>\n",
       "      <th>3</th>\n",
       "      <td>KcrkZ</td>\n",
       "      <td>-13.081196</td>\n",
       "      <td>-11.506057</td>\n",
       "      <td>4.999415</td>\n",
       "      <td>137.945408</td>\n",
       "    </tr>\n",
       "    <tr>\n",
       "      <th>4</th>\n",
       "      <td>AHL4O</td>\n",
       "      <td>12.702195</td>\n",
       "      <td>-8.147433</td>\n",
       "      <td>5.004363</td>\n",
       "      <td>134.766305</td>\n",
       "    </tr>\n",
       "  </tbody>\n",
       "</table>\n",
       "</div>\n",
       "      <button class=\"colab-df-convert\" onclick=\"convertToInteractive('df-860137c0-cc3f-450d-bdbe-f2dbd8ff2753')\"\n",
       "              title=\"Convert this dataframe to an interactive table.\"\n",
       "              style=\"display:none;\">\n",
       "        \n",
       "  <svg xmlns=\"http://www.w3.org/2000/svg\" height=\"24px\"viewBox=\"0 0 24 24\"\n",
       "       width=\"24px\">\n",
       "    <path d=\"M0 0h24v24H0V0z\" fill=\"none\"/>\n",
       "    <path d=\"M18.56 5.44l.94 2.06.94-2.06 2.06-.94-2.06-.94-.94-2.06-.94 2.06-2.06.94zm-11 1L8.5 8.5l.94-2.06 2.06-.94-2.06-.94L8.5 2.5l-.94 2.06-2.06.94zm10 10l.94 2.06.94-2.06 2.06-.94-2.06-.94-.94-2.06-.94 2.06-2.06.94z\"/><path d=\"M17.41 7.96l-1.37-1.37c-.4-.4-.92-.59-1.43-.59-.52 0-1.04.2-1.43.59L10.3 9.45l-7.72 7.72c-.78.78-.78 2.05 0 2.83L4 21.41c.39.39.9.59 1.41.59.51 0 1.02-.2 1.41-.59l7.78-7.78 2.81-2.81c.8-.78.8-2.07 0-2.86zM5.41 20L4 18.59l7.72-7.72 1.47 1.35L5.41 20z\"/>\n",
       "  </svg>\n",
       "      </button>\n",
       "      \n",
       "  <style>\n",
       "    .colab-df-container {\n",
       "      display:flex;\n",
       "      flex-wrap:wrap;\n",
       "      gap: 12px;\n",
       "    }\n",
       "\n",
       "    .colab-df-convert {\n",
       "      background-color: #E8F0FE;\n",
       "      border: none;\n",
       "      border-radius: 50%;\n",
       "      cursor: pointer;\n",
       "      display: none;\n",
       "      fill: #1967D2;\n",
       "      height: 32px;\n",
       "      padding: 0 0 0 0;\n",
       "      width: 32px;\n",
       "    }\n",
       "\n",
       "    .colab-df-convert:hover {\n",
       "      background-color: #E2EBFA;\n",
       "      box-shadow: 0px 1px 2px rgba(60, 64, 67, 0.3), 0px 1px 3px 1px rgba(60, 64, 67, 0.15);\n",
       "      fill: #174EA6;\n",
       "    }\n",
       "\n",
       "    [theme=dark] .colab-df-convert {\n",
       "      background-color: #3B4455;\n",
       "      fill: #D2E3FC;\n",
       "    }\n",
       "\n",
       "    [theme=dark] .colab-df-convert:hover {\n",
       "      background-color: #434B5C;\n",
       "      box-shadow: 0px 1px 3px 1px rgba(0, 0, 0, 0.15);\n",
       "      filter: drop-shadow(0px 1px 2px rgba(0, 0, 0, 0.3));\n",
       "      fill: #FFFFFF;\n",
       "    }\n",
       "  </style>\n",
       "\n",
       "      <script>\n",
       "        const buttonEl =\n",
       "          document.querySelector('#df-860137c0-cc3f-450d-bdbe-f2dbd8ff2753 button.colab-df-convert');\n",
       "        buttonEl.style.display =\n",
       "          google.colab.kernel.accessAllowed ? 'block' : 'none';\n",
       "\n",
       "        async function convertToInteractive(key) {\n",
       "          const element = document.querySelector('#df-860137c0-cc3f-450d-bdbe-f2dbd8ff2753');\n",
       "          const dataTable =\n",
       "            await google.colab.kernel.invokeFunction('convertToInteractive',\n",
       "                                                     [key], {});\n",
       "          if (!dataTable) return;\n",
       "\n",
       "          const docLinkHtml = 'Like what you see? Visit the ' +\n",
       "            '<a target=\"_blank\" href=https://colab.research.google.com/notebooks/data_table.ipynb>data table notebook</a>'\n",
       "            + ' to learn more about interactive tables.';\n",
       "          element.innerHTML = '';\n",
       "          dataTable['output_type'] = 'display_data';\n",
       "          await google.colab.output.renderOutput(dataTable, element);\n",
       "          const docLink = document.createElement('div');\n",
       "          docLink.innerHTML = docLinkHtml;\n",
       "          element.appendChild(docLink);\n",
       "        }\n",
       "      </script>\n",
       "    </div>\n",
       "  </div>\n",
       "  "
      ],
      "text/plain": [
       "      id         f0         f1        f2     product\n",
       "0  kBEdx -15.001348  -8.276000 -0.005876    3.179103\n",
       "1  62mP7  14.272088  -3.475083  0.999183   26.953261\n",
       "2  vyE1P   6.263187  -5.948386  5.001160  134.766305\n",
       "3  KcrkZ -13.081196 -11.506057  4.999415  137.945408\n",
       "4  AHL4O  12.702195  -8.147433  5.004363  134.766305"
      ]
     },
     "execution_count": 436,
     "metadata": {},
     "output_type": "execute_result"
    }
   ],
   "source": [
    "geo1.head()"
   ]
  },
  {
   "cell_type": "code",
   "execution_count": 437,
   "metadata": {
    "colab": {
     "base_uri": "https://localhost:8080/"
    },
    "id": "Co_P-2BQlaaH",
    "outputId": "8bc458d3-0ec8-48b8-c599-4e1e6b2402d1"
   },
   "outputs": [
    {
     "name": "stdout",
     "output_type": "stream",
     "text": [
      "<class 'pandas.core.frame.DataFrame'>\n",
      "RangeIndex: 100000 entries, 0 to 99999\n",
      "Data columns (total 5 columns):\n",
      " #   Column   Non-Null Count   Dtype  \n",
      "---  ------   --------------   -----  \n",
      " 0   id       100000 non-null  object \n",
      " 1   f0       100000 non-null  float64\n",
      " 2   f1       100000 non-null  float64\n",
      " 3   f2       100000 non-null  float64\n",
      " 4   product  100000 non-null  float64\n",
      "dtypes: float64(4), object(1)\n",
      "memory usage: 3.8+ MB\n"
     ]
    }
   ],
   "source": [
    "geo1.info()"
   ]
  },
  {
   "cell_type": "code",
   "execution_count": 438,
   "metadata": {
    "colab": {
     "base_uri": "https://localhost:8080/"
    },
    "id": "pqD1MdGlpDzN",
    "outputId": "e2ae6d83-9e94-4f6a-81a7-6f40a20a7282"
   },
   "outputs": [
    {
     "name": "stdout",
     "output_type": "stream",
     "text": [
      "<class 'pandas.core.frame.DataFrame'>\n",
      "RangeIndex: 100000 entries, 0 to 99999\n",
      "Data columns (total 4 columns):\n",
      " #   Column   Non-Null Count   Dtype  \n",
      "---  ------   --------------   -----  \n",
      " 0   f0       100000 non-null  float64\n",
      " 1   f1       100000 non-null  float64\n",
      " 2   f2       100000 non-null  float64\n",
      " 3   product  100000 non-null  float64\n",
      "dtypes: float64(4)\n",
      "memory usage: 3.1 MB\n"
     ]
    }
   ],
   "source": [
    "geo1_predict = geo1.drop(['id'], axis = 1)\n",
    "geo1_predict.info()"
   ]
  },
  {
   "cell_type": "code",
   "execution_count": 439,
   "metadata": {
    "colab": {
     "base_uri": "https://localhost:8080/",
     "height": 0
    },
    "id": "U07E-DRilMy8",
    "outputId": "a5f4542d-5499-4d96-fe24-c44344e1bcc7"
   },
   "outputs": [
    {
     "data": {
      "text/html": [
       "\n",
       "  <div id=\"df-a9649fd3-0051-490c-8893-9ab79e306eec\">\n",
       "    <div class=\"colab-df-container\">\n",
       "      <div>\n",
       "<style scoped>\n",
       "    .dataframe tbody tr th:only-of-type {\n",
       "        vertical-align: middle;\n",
       "    }\n",
       "\n",
       "    .dataframe tbody tr th {\n",
       "        vertical-align: top;\n",
       "    }\n",
       "\n",
       "    .dataframe thead th {\n",
       "        text-align: right;\n",
       "    }\n",
       "</style>\n",
       "<table border=\"1\" class=\"dataframe\">\n",
       "  <thead>\n",
       "    <tr style=\"text-align: right;\">\n",
       "      <th></th>\n",
       "      <th>id</th>\n",
       "      <th>f0</th>\n",
       "      <th>f1</th>\n",
       "      <th>f2</th>\n",
       "      <th>product</th>\n",
       "    </tr>\n",
       "  </thead>\n",
       "  <tbody>\n",
       "    <tr>\n",
       "      <th>0</th>\n",
       "      <td>fwXo0</td>\n",
       "      <td>-1.146987</td>\n",
       "      <td>0.963328</td>\n",
       "      <td>-0.828965</td>\n",
       "      <td>27.758673</td>\n",
       "    </tr>\n",
       "    <tr>\n",
       "      <th>1</th>\n",
       "      <td>WJtFt</td>\n",
       "      <td>0.262778</td>\n",
       "      <td>0.269839</td>\n",
       "      <td>-2.530187</td>\n",
       "      <td>56.069697</td>\n",
       "    </tr>\n",
       "    <tr>\n",
       "      <th>2</th>\n",
       "      <td>ovLUW</td>\n",
       "      <td>0.194587</td>\n",
       "      <td>0.289035</td>\n",
       "      <td>-5.586433</td>\n",
       "      <td>62.871910</td>\n",
       "    </tr>\n",
       "    <tr>\n",
       "      <th>3</th>\n",
       "      <td>q6cA6</td>\n",
       "      <td>2.236060</td>\n",
       "      <td>-0.553760</td>\n",
       "      <td>0.930038</td>\n",
       "      <td>114.572842</td>\n",
       "    </tr>\n",
       "    <tr>\n",
       "      <th>4</th>\n",
       "      <td>WPMUX</td>\n",
       "      <td>-0.515993</td>\n",
       "      <td>1.716266</td>\n",
       "      <td>5.899011</td>\n",
       "      <td>149.600746</td>\n",
       "    </tr>\n",
       "  </tbody>\n",
       "</table>\n",
       "</div>\n",
       "      <button class=\"colab-df-convert\" onclick=\"convertToInteractive('df-a9649fd3-0051-490c-8893-9ab79e306eec')\"\n",
       "              title=\"Convert this dataframe to an interactive table.\"\n",
       "              style=\"display:none;\">\n",
       "        \n",
       "  <svg xmlns=\"http://www.w3.org/2000/svg\" height=\"24px\"viewBox=\"0 0 24 24\"\n",
       "       width=\"24px\">\n",
       "    <path d=\"M0 0h24v24H0V0z\" fill=\"none\"/>\n",
       "    <path d=\"M18.56 5.44l.94 2.06.94-2.06 2.06-.94-2.06-.94-.94-2.06-.94 2.06-2.06.94zm-11 1L8.5 8.5l.94-2.06 2.06-.94-2.06-.94L8.5 2.5l-.94 2.06-2.06.94zm10 10l.94 2.06.94-2.06 2.06-.94-2.06-.94-.94-2.06-.94 2.06-2.06.94z\"/><path d=\"M17.41 7.96l-1.37-1.37c-.4-.4-.92-.59-1.43-.59-.52 0-1.04.2-1.43.59L10.3 9.45l-7.72 7.72c-.78.78-.78 2.05 0 2.83L4 21.41c.39.39.9.59 1.41.59.51 0 1.02-.2 1.41-.59l7.78-7.78 2.81-2.81c.8-.78.8-2.07 0-2.86zM5.41 20L4 18.59l7.72-7.72 1.47 1.35L5.41 20z\"/>\n",
       "  </svg>\n",
       "      </button>\n",
       "      \n",
       "  <style>\n",
       "    .colab-df-container {\n",
       "      display:flex;\n",
       "      flex-wrap:wrap;\n",
       "      gap: 12px;\n",
       "    }\n",
       "\n",
       "    .colab-df-convert {\n",
       "      background-color: #E8F0FE;\n",
       "      border: none;\n",
       "      border-radius: 50%;\n",
       "      cursor: pointer;\n",
       "      display: none;\n",
       "      fill: #1967D2;\n",
       "      height: 32px;\n",
       "      padding: 0 0 0 0;\n",
       "      width: 32px;\n",
       "    }\n",
       "\n",
       "    .colab-df-convert:hover {\n",
       "      background-color: #E2EBFA;\n",
       "      box-shadow: 0px 1px 2px rgba(60, 64, 67, 0.3), 0px 1px 3px 1px rgba(60, 64, 67, 0.15);\n",
       "      fill: #174EA6;\n",
       "    }\n",
       "\n",
       "    [theme=dark] .colab-df-convert {\n",
       "      background-color: #3B4455;\n",
       "      fill: #D2E3FC;\n",
       "    }\n",
       "\n",
       "    [theme=dark] .colab-df-convert:hover {\n",
       "      background-color: #434B5C;\n",
       "      box-shadow: 0px 1px 3px 1px rgba(0, 0, 0, 0.15);\n",
       "      filter: drop-shadow(0px 1px 2px rgba(0, 0, 0, 0.3));\n",
       "      fill: #FFFFFF;\n",
       "    }\n",
       "  </style>\n",
       "\n",
       "      <script>\n",
       "        const buttonEl =\n",
       "          document.querySelector('#df-a9649fd3-0051-490c-8893-9ab79e306eec button.colab-df-convert');\n",
       "        buttonEl.style.display =\n",
       "          google.colab.kernel.accessAllowed ? 'block' : 'none';\n",
       "\n",
       "        async function convertToInteractive(key) {\n",
       "          const element = document.querySelector('#df-a9649fd3-0051-490c-8893-9ab79e306eec');\n",
       "          const dataTable =\n",
       "            await google.colab.kernel.invokeFunction('convertToInteractive',\n",
       "                                                     [key], {});\n",
       "          if (!dataTable) return;\n",
       "\n",
       "          const docLinkHtml = 'Like what you see? Visit the ' +\n",
       "            '<a target=\"_blank\" href=https://colab.research.google.com/notebooks/data_table.ipynb>data table notebook</a>'\n",
       "            + ' to learn more about interactive tables.';\n",
       "          element.innerHTML = '';\n",
       "          dataTable['output_type'] = 'display_data';\n",
       "          await google.colab.output.renderOutput(dataTable, element);\n",
       "          const docLink = document.createElement('div');\n",
       "          docLink.innerHTML = docLinkHtml;\n",
       "          element.appendChild(docLink);\n",
       "        }\n",
       "      </script>\n",
       "    </div>\n",
       "  </div>\n",
       "  "
      ],
      "text/plain": [
       "      id        f0        f1        f2     product\n",
       "0  fwXo0 -1.146987  0.963328 -0.828965   27.758673\n",
       "1  WJtFt  0.262778  0.269839 -2.530187   56.069697\n",
       "2  ovLUW  0.194587  0.289035 -5.586433   62.871910\n",
       "3  q6cA6  2.236060 -0.553760  0.930038  114.572842\n",
       "4  WPMUX -0.515993  1.716266  5.899011  149.600746"
      ]
     },
     "execution_count": 439,
     "metadata": {},
     "output_type": "execute_result"
    }
   ],
   "source": [
    "geo2.head()"
   ]
  },
  {
   "cell_type": "code",
   "execution_count": 440,
   "metadata": {
    "colab": {
     "base_uri": "https://localhost:8080/"
    },
    "id": "LJhI_H8-lV5_",
    "outputId": "3e114b23-4b9f-4ceb-d090-3ab4629fd363"
   },
   "outputs": [
    {
     "name": "stdout",
     "output_type": "stream",
     "text": [
      "<class 'pandas.core.frame.DataFrame'>\n",
      "RangeIndex: 100000 entries, 0 to 99999\n",
      "Data columns (total 5 columns):\n",
      " #   Column   Non-Null Count   Dtype  \n",
      "---  ------   --------------   -----  \n",
      " 0   id       100000 non-null  object \n",
      " 1   f0       100000 non-null  float64\n",
      " 2   f1       100000 non-null  float64\n",
      " 3   f2       100000 non-null  float64\n",
      " 4   product  100000 non-null  float64\n",
      "dtypes: float64(4), object(1)\n",
      "memory usage: 3.8+ MB\n"
     ]
    }
   ],
   "source": [
    "geo2.info()"
   ]
  },
  {
   "cell_type": "code",
   "execution_count": 441,
   "metadata": {
    "colab": {
     "base_uri": "https://localhost:8080/"
    },
    "id": "9PErx43-o6xB",
    "outputId": "5fd0dbaf-0e6f-431e-c8f6-3152d9ff29f3"
   },
   "outputs": [
    {
     "name": "stdout",
     "output_type": "stream",
     "text": [
      "<class 'pandas.core.frame.DataFrame'>\n",
      "RangeIndex: 100000 entries, 0 to 99999\n",
      "Data columns (total 4 columns):\n",
      " #   Column   Non-Null Count   Dtype  \n",
      "---  ------   --------------   -----  \n",
      " 0   f0       100000 non-null  float64\n",
      " 1   f1       100000 non-null  float64\n",
      " 2   f2       100000 non-null  float64\n",
      " 3   product  100000 non-null  float64\n",
      "dtypes: float64(4)\n",
      "memory usage: 3.1 MB\n"
     ]
    }
   ],
   "source": [
    "geo2_predict = geo2.drop(['id'], axis = 1)\n",
    "geo2_predict.info()"
   ]
  },
  {
   "cell_type": "markdown",
   "metadata": {
    "id": "EMCctcrjiJdr"
   },
   "source": [
    "Se procede entonces a entrenar un modelo capaz de predecir la producción que puede tener un determinado pozo prolero según las características f0,f1,f2"
   ]
  },
  {
   "cell_type": "markdown",
   "metadata": {},
   "source": []
  },
  {
   "cell_type": "markdown",
   "metadata": {
    "id": "SFRDqBRkhRGz"
   },
   "source": [
    "## **ALGORITMO DE MACHINE LEARNING**"
   ]
  },
  {
   "cell_type": "markdown",
   "metadata": {
    "id": "soBgnAXSiaD6"
   },
   "source": [
    "Primeramente creamos una función que nos permita entrenar el modelo, en este caso, se decidió emplear un modelo de regresión lineal el cual es el único capaz de predecir con maoyor exactitud los valores de los pozos de petroleo"
   ]
  },
  {
   "cell_type": "code",
   "execution_count": 442,
   "metadata": {
    "id": "jBdsByTjswLJ"
   },
   "outputs": [],
   "source": [
    "def linear_regressor(df, colum_to_predict, test_s):\n",
    "  features = df.drop(colum_to_predict, axis = 1)\n",
    "  target = df[colum_to_predict]\n",
    "\n",
    "  features_train, features_valid, target_train, target_valid = train_test_split(\n",
    "      features , target, test_size= test_s, random_state=12345) # segmenta el 25 % de los datos para hacer el conjunto de validación\n",
    "\n",
    "  model = LinearRegression()\n",
    "  model.fit(features_train,target_train) # entrena el modelo en el conjunto de entrenamiento\n",
    "  predictions_valid = model.predict(features_valid) # obtén las predicciones del modelo en el conjunto de validación\n",
    "\n",
    "  result = mean_squared_error(target_valid,predictions_valid)**0.5\n",
    "  print('El número promedio de reservas previstas es de:', sum(predictions_valid)/len(predictions_valid))\n",
    "  print( \"RECM del modelo de regresión lineal en el conjunto de validación:\", result/100)\n",
    "  return predictions_valid, target_valid,features_valid, model"
   ]
  },
  {
   "cell_type": "markdown",
   "metadata": {
    "id": "4iptKZTHiu14"
   },
   "source": [
    "Aplicamos la función a las 3 regiones y retornamos sus valores de predicción y comprobación, además determiamos cual es el RECM y el promedio de reervas que hay en la distribución"
   ]
  },
  {
   "cell_type": "code",
   "execution_count": 443,
   "metadata": {
    "colab": {
     "base_uri": "https://localhost:8080/"
    },
    "id": "QbDRvAqlwaYZ",
    "outputId": "54fdefb8-03ec-470f-924a-fab08c645c8e"
   },
   "outputs": [
    {
     "name": "stdout",
     "output_type": "stream",
     "text": [
      "El número promedio de reservas previstas es de: 92.59256778438008\n",
      "RECM del modelo de regresión lineal en el conjunto de validación: 0.375794217150813\n"
     ]
    }
   ],
   "source": [
    "predicted0,target_valid0,features_valid0,model0 = linear_regressor(geo0_predict, 'product', 0.25)"
   ]
  },
  {
   "cell_type": "code",
   "execution_count": 444,
   "metadata": {
    "colab": {
     "base_uri": "https://localhost:8080/"
    },
    "id": "Suhww8GTwlru",
    "outputId": "4b74a6f1-3780-4e9e-f23a-04e12b398acf"
   },
   "outputs": [
    {
     "name": "stdout",
     "output_type": "stream",
     "text": [
      "El número promedio de reservas previstas es de: 68.7285468954458\n",
      "RECM del modelo de regresión lineal en el conjunto de validación: 0.00893099286775617\n"
     ]
    }
   ],
   "source": [
    "predicted1,target_valid1,features_valid1,model1 = linear_regressor(geo1_predict, 'product', 0.25)"
   ]
  },
  {
   "cell_type": "code",
   "execution_count": 445,
   "metadata": {
    "colab": {
     "base_uri": "https://localhost:8080/"
    },
    "id": "Y53RLVAMwmOP",
    "outputId": "0bee70c6-3f62-47cb-96ab-d2d7417b949d"
   },
   "outputs": [
    {
     "name": "stdout",
     "output_type": "stream",
     "text": [
      "El número promedio de reservas previstas es de: 94.96504596800506\n",
      "RECM del modelo de regresión lineal en el conjunto de validación: 0.40029708733934344\n"
     ]
    }
   ],
   "source": [
    "predicted2,target_valid2,features_valid2,model2 = linear_regressor(geo2_predict, 'product', 0.25)"
   ]
  },
  {
   "cell_type": "markdown",
   "metadata": {
    "id": "xAVzWBnxoXFG"
   },
   "source": [
    "Aunque estos vlores por separado parecen ser bastante prometedores, cabe destacar que son modelos diferentes por lo que se procede a calcular el mejor modelo por medio de la comprobación de los mismos según los valores obtenidos anteriomente"
   ]
  },
  {
   "cell_type": "code",
   "execution_count": 462,
   "metadata": {
    "colab": {
     "base_uri": "https://localhost:8080/"
    },
    "id": "TpvO530Rj78P",
    "outputId": "390dddca-b0e2-44c8-cae6-6774e3c26d0c"
   },
   "outputs": [
    {
     "name": "stdout",
     "output_type": "stream",
     "text": [
      "Emplemando el modelo model0 para el feature y target valid 0 tenemos REMC = 37.58 %\n",
      "Emplemando el modelo model0 para el feature y target valid 1 tenemos REMC = 126.95 %\n",
      "Emplemando el modelo model0 para el feature y target valid 2 tenemos REMC = 47.38 %\n",
      "\n",
      "\n",
      "Emplemando el modelo model1 para el feature y target valid 0 tenemos REMC = 79.96 %\n",
      "Emplemando el modelo model1 para el feature y target valid 1 tenemos REMC = 0.89 %\n",
      "Emplemando el modelo model1 para el feature y target valid 2 tenemos REMC = 87.61 %\n",
      "\n",
      "\n",
      "Emplemando el modelo model2 para el feature y target valid 0 tenemos REMC = 38.94 %\n",
      "Emplemando el modelo model2 para el feature y target valid 1 tenemos REMC = 44.95 %\n",
      "Emplemando el modelo model2 para el feature y target valid 2 tenemos REMC = 40.03 %\n",
      "\n",
      "\n"
     ]
    }
   ],
   "source": [
    "features = [features_valid0,features_valid1,features_valid2]\n",
    "target = [target_valid0,target_valid1,target_valid2]\n",
    "model = [model0,model1,model2]\n",
    "for i in range(3):\n",
    "  for j in range(3):\n",
    "    predicted = model[i].predict(features[j])\n",
    "    print(f'Emplemando el modelo model{i} para el feature y target valid {j} tenemos REMC = {round(mean_squared_error(target[j],predicted)**0.5,2)} %')\n",
    "  print('\\n')"
   ]
  },
  {
   "cell_type": "code",
   "execution_count": 467,
   "metadata": {
    "id": "x8Gjyeq3pRhb"
   },
   "outputs": [],
   "source": [
    "predicted0 = model2.predict(features_valid0)\n",
    "predicted1 = model2.predict(features_valid1)\n",
    "predicted2 = model2.predict(features_valid2)"
   ]
  },
  {
   "cell_type": "markdown",
   "metadata": {
    "id": "SiwSR8oaoQ9n"
   },
   "source": [
    "### **CONCLUSIÓN INTERMEDIA**"
   ]
  },
  {
   "cell_type": "markdown",
   "metadata": {
    "id": "oR9QIndon2hk"
   },
   "source": [
    "En base a lo obtenido anteriormente se concluye que le mejor modelo para la predicción de los valores es el model2, ya que los otros modelos evidencian ser más volatiles a la hora de predecir, y estos valores son mas cercanos a 0 en norma general, que es lo que se quere, con lo cual se tiene una predicción más fidedigna de los resultados"
   ]
  },
  {
   "cell_type": "markdown",
   "metadata": {
    "id": "vZUnbr8ooP3E"
   },
   "source": [
    "## **CALCULO DE LAS GANANCIAS**"
   ]
  },
  {
   "cell_type": "markdown",
   "metadata": {
    "id": "8eUzr-RSpAIA"
   },
   "source": [
    "Primeramente se calcual cual es el volumen mínimo necesario para obtener beneficios en la producción"
   ]
  },
  {
   "cell_type": "code",
   "execution_count": 280,
   "metadata": {
    "colab": {
     "base_uri": "https://localhost:8080/"
    },
    "id": "Mc-xVpPOzUs3",
    "outputId": "aa61d700-9a8d-4895-ead3-13e33b0b3cdd"
   },
   "outputs": [
    {
     "name": "stdout",
     "output_type": "stream",
     "text": [
      "El volumen de reservas suficientes para desarrollar el pozo sin pérdidas es de: 111\n"
     ]
    }
   ],
   "source": [
    "produc_unit_price = 4500                       #Precio de mil barriles\n",
    "budget = 100000000                       #Presupuesto para 200 pozos\n",
    "wells = 200                              #Cantidad de pozos\n",
    "price_per_well = budget/wells            #Precio promedio de un pozo\n",
    "products = price_per_well/produc_unit_price    #Volumen de reservas suficiente para desarrollar un nuevo pozo sin pérdidas\n",
    "\n",
    "print('El volumen de reservas suficientes para desarrollar el pozo sin pérdidas es de:', round(products))"
   ]
  },
  {
   "cell_type": "markdown",
   "metadata": {
    "id": "p8LxOOe2prEq"
   },
   "source": [
    "Se tiene que se requiere un volumen mínimo de 111 apara poder obtener beneficios"
   ]
  },
  {
   "cell_type": "markdown",
   "metadata": {
    "id": "NOBea6X5pyea"
   },
   "source": [
    "Se procede a ordenar los valores y segmentarlos por todos los que sean mayores a 111 en volumne de producción"
   ]
  },
  {
   "cell_type": "code",
   "execution_count": 468,
   "metadata": {
    "colab": {
     "base_uri": "https://localhost:8080/"
    },
    "id": "Rx5MvcTGOrEm",
    "outputId": "b5c59421-7a37-45ca-ca79-b542146930f5"
   },
   "outputs": [
    {
     "data": {
      "text/plain": [
       "14125    166.478513\n",
       "11584    162.343529\n",
       "9317     161.260633\n",
       "23388    158.829140\n",
       "219      158.393408\n",
       "            ...    \n",
       "22157    111.120824\n",
       "20785    111.120447\n",
       "12325    111.117670\n",
       "2101     111.114067\n",
       "14141    111.111627\n",
       "Length: 4853, dtype: float64"
      ]
     },
     "execution_count": 468,
     "metadata": {},
     "output_type": "execute_result"
    }
   ],
   "source": [
    "predict0 = pd.Series(predicted0).sort_values(ascending = False)\n",
    "predict0 = predict0[predict0 > products ]\n",
    "predict0 "
   ]
  },
  {
   "cell_type": "code",
   "execution_count": 472,
   "metadata": {
    "colab": {
     "base_uri": "https://localhost:8080/"
    },
    "id": "XKs_QMmiQyML",
    "outputId": "4497c6b0-9e4d-4f6f-9aa3-97ca8987e7f7"
   },
   "outputs": [
    {
     "data": {
      "text/plain": [
       "Series([], dtype: float64)"
      ]
     },
     "execution_count": 472,
     "metadata": {},
     "output_type": "execute_result"
    }
   ],
   "source": [
    "predict1 = pd.Series(predicted1).sort_values(ascending = False)\n",
    "predict1 = predict1[predict1 > products ]\n",
    "predict1"
   ]
  },
  {
   "cell_type": "code",
   "execution_count": 470,
   "metadata": {
    "colab": {
     "base_uri": "https://localhost:8080/"
    },
    "id": "SHpra9RzQyyX",
    "outputId": "866f76e3-5025-4a8b-f0a5-694fe02a5cde"
   },
   "outputs": [
    {
     "data": {
      "text/plain": [
       "22636    165.856833\n",
       "24690    165.679685\n",
       "7811     163.439962\n",
       "1581     162.062589\n",
       "6751     161.797476\n",
       "            ...    \n",
       "3279     111.128243\n",
       "15707    111.124966\n",
       "18665    111.118417\n",
       "2353     111.116703\n",
       "22672    111.115510\n",
       "Length: 5234, dtype: float64"
      ]
     },
     "execution_count": 470,
     "metadata": {},
     "output_type": "execute_result"
    }
   ],
   "source": [
    "predict2 = pd.Series(predicted2).sort_values(ascending = False)\n",
    "predict2 = predict2[predict2 > products ]\n",
    "predict2"
   ]
  },
  {
   "cell_type": "markdown",
   "metadata": {
    "id": "TicGSY2oqQKb"
   },
   "source": [
    "Como se puede observar según nuestra predicción la localización ge1 no cuenta con las métricas necesarias para poder generar beneficios, por lo que se procede a eliminarla del estudio"
   ]
  },
  {
   "cell_type": "markdown",
   "metadata": {
    "id": "rIW5o8mXqi3h"
   },
   "source": [
    "A continuación buscamos los valores en los data frame originales para poder corroorar con el id caules son los puntos de los pozos y se eliminan todos los que sean iguales a 0 para evitar futuros problemas en los cálculos"
   ]
  },
  {
   "cell_type": "code",
   "execution_count": 474,
   "metadata": {
    "id": "TytpVI79R2CV"
   },
   "outputs": [],
   "source": [
    "geo0_presidcted = geo0.loc[predict0.index]\n",
    "geo0_presidcted  = geo0_presidcted[geo0_presidcted['product'] != 0]"
   ]
  },
  {
   "cell_type": "markdown",
   "metadata": {
    "id": "oUdYAvCcUgRX"
   },
   "source": [
    "geo1_presidcted = geo1.loc[predict1.index]\n",
    "geo1_presidcted = geo1_presidcted[geo1_presidcted['product']!= 0]"
   ]
  },
  {
   "cell_type": "code",
   "execution_count": 476,
   "metadata": {
    "id": "iLg9FgFxUq_t"
   },
   "outputs": [],
   "source": [
    "geo2_presidcted = geo2.loc[predict2.index]\n",
    "geo2_presidcted = geo2_presidcted[geo2_presidcted['product'] != 0]"
   ]
  },
  {
   "cell_type": "markdown",
   "metadata": {
    "id": "HUKz-TZXrCx6"
   },
   "source": [
    "Se procede entonces a crear las funiones que nos permite determinar el retorno de la inversión según los ingresos brutos por medio de la inversión y el retorno que generá el pozo a contruir"
   ]
  },
  {
   "cell_type": "code",
   "execution_count": 346,
   "metadata": {
    "id": "LUtb-pRQU7RC"
   },
   "outputs": [],
   "source": [
    "def profits(product):\n",
    "  return product * produc_unit_price\n",
    "\n",
    "def gross_profit(profit):\n",
    "  return profit - price_per_well \n",
    "\n",
    "def gross_profit_margin(profit,gross_profit):\n",
    "  return (gross_profit/profit) * 100"
   ]
  },
  {
   "cell_type": "code",
   "execution_count": 347,
   "metadata": {
    "id": "Pj1e20uoYhVL"
   },
   "outputs": [],
   "source": [
    "def profi_table(DF):\n",
    "  DF['profits'] = list(map(lambda product: profits(product), DF['product']))\n",
    "  DF['gross_profit'] = list(map(lambda profit: gross_profit(profit), DF['profits']))\n",
    "  DF['gross_profit_margin'] = list(map(lambda profit,gross_profit: gross_profit_margin(profit,gross_profit), DF['profits'],DF['gross_profit']))\n",
    "  return DF"
   ]
  },
  {
   "cell_type": "markdown",
   "metadata": {
    "id": "539CdMTzrUxT"
   },
   "source": [
    "Se procede a presentar las tablas con las columnas de beneficios ingreso bruto y margen de ingreso bruto ya constuidas"
   ]
  },
  {
   "cell_type": "code",
   "execution_count": 478,
   "metadata": {
    "colab": {
     "base_uri": "https://localhost:8080/",
     "height": 423
    },
    "id": "3fPEpAlwagXi",
    "outputId": "5a421b8c-2f4e-47cd-9f02-3a12ed972f1f"
   },
   "outputs": [
    {
     "data": {
      "text/html": [
       "\n",
       "  <div id=\"df-eb5ff7f9-c101-4b66-9e19-168832b1ae9c\">\n",
       "    <div class=\"colab-df-container\">\n",
       "      <div>\n",
       "<style scoped>\n",
       "    .dataframe tbody tr th:only-of-type {\n",
       "        vertical-align: middle;\n",
       "    }\n",
       "\n",
       "    .dataframe tbody tr th {\n",
       "        vertical-align: top;\n",
       "    }\n",
       "\n",
       "    .dataframe thead th {\n",
       "        text-align: right;\n",
       "    }\n",
       "</style>\n",
       "<table border=\"1\" class=\"dataframe\">\n",
       "  <thead>\n",
       "    <tr style=\"text-align: right;\">\n",
       "      <th></th>\n",
       "      <th>id</th>\n",
       "      <th>f0</th>\n",
       "      <th>f1</th>\n",
       "      <th>f2</th>\n",
       "      <th>product</th>\n",
       "      <th>profits</th>\n",
       "      <th>gross_profit</th>\n",
       "      <th>gross_profit_margin</th>\n",
       "    </tr>\n",
       "  </thead>\n",
       "  <tbody>\n",
       "    <tr>\n",
       "      <th>14125</th>\n",
       "      <td>C8I7q</td>\n",
       "      <td>0.908694</td>\n",
       "      <td>0.876155</td>\n",
       "      <td>5.305020</td>\n",
       "      <td>57.047123</td>\n",
       "      <td>256712.051821</td>\n",
       "      <td>-243287.948179</td>\n",
       "      <td>-94.770754</td>\n",
       "    </tr>\n",
       "    <tr>\n",
       "      <th>11584</th>\n",
       "      <td>Nzlvz</td>\n",
       "      <td>-0.925438</td>\n",
       "      <td>0.417638</td>\n",
       "      <td>1.103632</td>\n",
       "      <td>43.091218</td>\n",
       "      <td>193910.481699</td>\n",
       "      <td>-306089.518301</td>\n",
       "      <td>-157.850940</td>\n",
       "    </tr>\n",
       "    <tr>\n",
       "      <th>9317</th>\n",
       "      <td>FvQ8l</td>\n",
       "      <td>2.028941</td>\n",
       "      <td>-0.022436</td>\n",
       "      <td>-1.837907</td>\n",
       "      <td>106.926103</td>\n",
       "      <td>481167.464666</td>\n",
       "      <td>-18832.535334</td>\n",
       "      <td>-3.913925</td>\n",
       "    </tr>\n",
       "    <tr>\n",
       "      <th>23388</th>\n",
       "      <td>uy1UJ</td>\n",
       "      <td>1.163281</td>\n",
       "      <td>0.525649</td>\n",
       "      <td>-3.309066</td>\n",
       "      <td>26.363999</td>\n",
       "      <td>118637.997385</td>\n",
       "      <td>-381362.002615</td>\n",
       "      <td>-321.450135</td>\n",
       "    </tr>\n",
       "    <tr>\n",
       "      <th>219</th>\n",
       "      <td>ZKbRR</td>\n",
       "      <td>-1.009449</td>\n",
       "      <td>0.139620</td>\n",
       "      <td>5.147720</td>\n",
       "      <td>117.675206</td>\n",
       "      <td>529538.429133</td>\n",
       "      <td>29538.429133</td>\n",
       "      <td>5.578146</td>\n",
       "    </tr>\n",
       "    <tr>\n",
       "      <th>...</th>\n",
       "      <td>...</td>\n",
       "      <td>...</td>\n",
       "      <td>...</td>\n",
       "      <td>...</td>\n",
       "      <td>...</td>\n",
       "      <td>...</td>\n",
       "      <td>...</td>\n",
       "      <td>...</td>\n",
       "    </tr>\n",
       "    <tr>\n",
       "      <th>22157</th>\n",
       "      <td>ABaED</td>\n",
       "      <td>1.795054</td>\n",
       "      <td>-0.159022</td>\n",
       "      <td>5.596923</td>\n",
       "      <td>105.413210</td>\n",
       "      <td>474359.446014</td>\n",
       "      <td>-25640.553986</td>\n",
       "      <td>-5.405301</td>\n",
       "    </tr>\n",
       "    <tr>\n",
       "      <th>20785</th>\n",
       "      <td>jCjsk</td>\n",
       "      <td>0.290593</td>\n",
       "      <td>0.822100</td>\n",
       "      <td>1.642992</td>\n",
       "      <td>54.023464</td>\n",
       "      <td>243105.589841</td>\n",
       "      <td>-256894.410159</td>\n",
       "      <td>-105.671947</td>\n",
       "    </tr>\n",
       "    <tr>\n",
       "      <th>12325</th>\n",
       "      <td>EvdFl</td>\n",
       "      <td>-0.650990</td>\n",
       "      <td>0.644071</td>\n",
       "      <td>0.628432</td>\n",
       "      <td>76.059805</td>\n",
       "      <td>342269.121829</td>\n",
       "      <td>-157730.878171</td>\n",
       "      <td>-46.083876</td>\n",
       "    </tr>\n",
       "    <tr>\n",
       "      <th>2101</th>\n",
       "      <td>o1okC</td>\n",
       "      <td>-0.977625</td>\n",
       "      <td>0.392835</td>\n",
       "      <td>1.351609</td>\n",
       "      <td>66.494056</td>\n",
       "      <td>299223.251100</td>\n",
       "      <td>-200776.748900</td>\n",
       "      <td>-67.099314</td>\n",
       "    </tr>\n",
       "    <tr>\n",
       "      <th>14141</th>\n",
       "      <td>CnW2p</td>\n",
       "      <td>0.208840</td>\n",
       "      <td>1.088651</td>\n",
       "      <td>6.958161</td>\n",
       "      <td>120.734175</td>\n",
       "      <td>543303.789131</td>\n",
       "      <td>43303.789131</td>\n",
       "      <td>7.970456</td>\n",
       "    </tr>\n",
       "  </tbody>\n",
       "</table>\n",
       "<p>4853 rows × 8 columns</p>\n",
       "</div>\n",
       "      <button class=\"colab-df-convert\" onclick=\"convertToInteractive('df-eb5ff7f9-c101-4b66-9e19-168832b1ae9c')\"\n",
       "              title=\"Convert this dataframe to an interactive table.\"\n",
       "              style=\"display:none;\">\n",
       "        \n",
       "  <svg xmlns=\"http://www.w3.org/2000/svg\" height=\"24px\"viewBox=\"0 0 24 24\"\n",
       "       width=\"24px\">\n",
       "    <path d=\"M0 0h24v24H0V0z\" fill=\"none\"/>\n",
       "    <path d=\"M18.56 5.44l.94 2.06.94-2.06 2.06-.94-2.06-.94-.94-2.06-.94 2.06-2.06.94zm-11 1L8.5 8.5l.94-2.06 2.06-.94-2.06-.94L8.5 2.5l-.94 2.06-2.06.94zm10 10l.94 2.06.94-2.06 2.06-.94-2.06-.94-.94-2.06-.94 2.06-2.06.94z\"/><path d=\"M17.41 7.96l-1.37-1.37c-.4-.4-.92-.59-1.43-.59-.52 0-1.04.2-1.43.59L10.3 9.45l-7.72 7.72c-.78.78-.78 2.05 0 2.83L4 21.41c.39.39.9.59 1.41.59.51 0 1.02-.2 1.41-.59l7.78-7.78 2.81-2.81c.8-.78.8-2.07 0-2.86zM5.41 20L4 18.59l7.72-7.72 1.47 1.35L5.41 20z\"/>\n",
       "  </svg>\n",
       "      </button>\n",
       "      \n",
       "  <style>\n",
       "    .colab-df-container {\n",
       "      display:flex;\n",
       "      flex-wrap:wrap;\n",
       "      gap: 12px;\n",
       "    }\n",
       "\n",
       "    .colab-df-convert {\n",
       "      background-color: #E8F0FE;\n",
       "      border: none;\n",
       "      border-radius: 50%;\n",
       "      cursor: pointer;\n",
       "      display: none;\n",
       "      fill: #1967D2;\n",
       "      height: 32px;\n",
       "      padding: 0 0 0 0;\n",
       "      width: 32px;\n",
       "    }\n",
       "\n",
       "    .colab-df-convert:hover {\n",
       "      background-color: #E2EBFA;\n",
       "      box-shadow: 0px 1px 2px rgba(60, 64, 67, 0.3), 0px 1px 3px 1px rgba(60, 64, 67, 0.15);\n",
       "      fill: #174EA6;\n",
       "    }\n",
       "\n",
       "    [theme=dark] .colab-df-convert {\n",
       "      background-color: #3B4455;\n",
       "      fill: #D2E3FC;\n",
       "    }\n",
       "\n",
       "    [theme=dark] .colab-df-convert:hover {\n",
       "      background-color: #434B5C;\n",
       "      box-shadow: 0px 1px 3px 1px rgba(0, 0, 0, 0.15);\n",
       "      filter: drop-shadow(0px 1px 2px rgba(0, 0, 0, 0.3));\n",
       "      fill: #FFFFFF;\n",
       "    }\n",
       "  </style>\n",
       "\n",
       "      <script>\n",
       "        const buttonEl =\n",
       "          document.querySelector('#df-eb5ff7f9-c101-4b66-9e19-168832b1ae9c button.colab-df-convert');\n",
       "        buttonEl.style.display =\n",
       "          google.colab.kernel.accessAllowed ? 'block' : 'none';\n",
       "\n",
       "        async function convertToInteractive(key) {\n",
       "          const element = document.querySelector('#df-eb5ff7f9-c101-4b66-9e19-168832b1ae9c');\n",
       "          const dataTable =\n",
       "            await google.colab.kernel.invokeFunction('convertToInteractive',\n",
       "                                                     [key], {});\n",
       "          if (!dataTable) return;\n",
       "\n",
       "          const docLinkHtml = 'Like what you see? Visit the ' +\n",
       "            '<a target=\"_blank\" href=https://colab.research.google.com/notebooks/data_table.ipynb>data table notebook</a>'\n",
       "            + ' to learn more about interactive tables.';\n",
       "          element.innerHTML = '';\n",
       "          dataTable['output_type'] = 'display_data';\n",
       "          await google.colab.output.renderOutput(dataTable, element);\n",
       "          const docLink = document.createElement('div');\n",
       "          docLink.innerHTML = docLinkHtml;\n",
       "          element.appendChild(docLink);\n",
       "        }\n",
       "      </script>\n",
       "    </div>\n",
       "  </div>\n",
       "  "
      ],
      "text/plain": [
       "          id        f0        f1        f2     product        profits  \\\n",
       "14125  C8I7q  0.908694  0.876155  5.305020   57.047123  256712.051821   \n",
       "11584  Nzlvz -0.925438  0.417638  1.103632   43.091218  193910.481699   \n",
       "9317   FvQ8l  2.028941 -0.022436 -1.837907  106.926103  481167.464666   \n",
       "23388  uy1UJ  1.163281  0.525649 -3.309066   26.363999  118637.997385   \n",
       "219    ZKbRR -1.009449  0.139620  5.147720  117.675206  529538.429133   \n",
       "...      ...       ...       ...       ...         ...            ...   \n",
       "22157  ABaED  1.795054 -0.159022  5.596923  105.413210  474359.446014   \n",
       "20785  jCjsk  0.290593  0.822100  1.642992   54.023464  243105.589841   \n",
       "12325  EvdFl -0.650990  0.644071  0.628432   76.059805  342269.121829   \n",
       "2101   o1okC -0.977625  0.392835  1.351609   66.494056  299223.251100   \n",
       "14141  CnW2p  0.208840  1.088651  6.958161  120.734175  543303.789131   \n",
       "\n",
       "        gross_profit  gross_profit_margin  \n",
       "14125 -243287.948179           -94.770754  \n",
       "11584 -306089.518301          -157.850940  \n",
       "9317   -18832.535334            -3.913925  \n",
       "23388 -381362.002615          -321.450135  \n",
       "219     29538.429133             5.578146  \n",
       "...              ...                  ...  \n",
       "22157  -25640.553986            -5.405301  \n",
       "20785 -256894.410159          -105.671947  \n",
       "12325 -157730.878171           -46.083876  \n",
       "2101  -200776.748900           -67.099314  \n",
       "14141   43303.789131             7.970456  \n",
       "\n",
       "[4853 rows x 8 columns]"
      ]
     },
     "execution_count": 478,
     "metadata": {},
     "output_type": "execute_result"
    }
   ],
   "source": [
    "geo0_predicted = profi_table(geo0_presidcted)\n",
    "geo0_predicted"
   ]
  },
  {
   "cell_type": "code",
   "execution_count": 480,
   "metadata": {
    "colab": {
     "base_uri": "https://localhost:8080/",
     "height": 423
    },
    "id": "5seCi1mjbN9v",
    "outputId": "71d4c579-6f80-426d-b073-cab8d8f7031e"
   },
   "outputs": [
    {
     "data": {
      "text/html": [
       "\n",
       "  <div id=\"df-2f1d5d52-fafa-4c3f-902a-f3c2b169c8d3\">\n",
       "    <div class=\"colab-df-container\">\n",
       "      <div>\n",
       "<style scoped>\n",
       "    .dataframe tbody tr th:only-of-type {\n",
       "        vertical-align: middle;\n",
       "    }\n",
       "\n",
       "    .dataframe tbody tr th {\n",
       "        vertical-align: top;\n",
       "    }\n",
       "\n",
       "    .dataframe thead th {\n",
       "        text-align: right;\n",
       "    }\n",
       "</style>\n",
       "<table border=\"1\" class=\"dataframe\">\n",
       "  <thead>\n",
       "    <tr style=\"text-align: right;\">\n",
       "      <th></th>\n",
       "      <th>id</th>\n",
       "      <th>f0</th>\n",
       "      <th>f1</th>\n",
       "      <th>f2</th>\n",
       "      <th>product</th>\n",
       "      <th>profits</th>\n",
       "      <th>gross_profit</th>\n",
       "      <th>gross_profit_margin</th>\n",
       "    </tr>\n",
       "  </thead>\n",
       "  <tbody>\n",
       "    <tr>\n",
       "      <th>22636</th>\n",
       "      <td>LJPET</td>\n",
       "      <td>1.465277</td>\n",
       "      <td>-3.147184</td>\n",
       "      <td>6.994110</td>\n",
       "      <td>32.884988</td>\n",
       "      <td>147982.447518</td>\n",
       "      <td>-352017.552482</td>\n",
       "      <td>-237.877909</td>\n",
       "    </tr>\n",
       "    <tr>\n",
       "      <th>24690</th>\n",
       "      <td>zTrp8</td>\n",
       "      <td>0.982777</td>\n",
       "      <td>1.354353</td>\n",
       "      <td>8.074194</td>\n",
       "      <td>128.080040</td>\n",
       "      <td>576360.179318</td>\n",
       "      <td>76360.179318</td>\n",
       "      <td>13.248691</td>\n",
       "    </tr>\n",
       "    <tr>\n",
       "      <th>7811</th>\n",
       "      <td>3t5IE</td>\n",
       "      <td>-0.923889</td>\n",
       "      <td>1.838607</td>\n",
       "      <td>1.761442</td>\n",
       "      <td>97.339415</td>\n",
       "      <td>438027.369335</td>\n",
       "      <td>-61972.630665</td>\n",
       "      <td>-14.148118</td>\n",
       "    </tr>\n",
       "    <tr>\n",
       "      <th>1581</th>\n",
       "      <td>Dw4Qr</td>\n",
       "      <td>0.114790</td>\n",
       "      <td>-0.025999</td>\n",
       "      <td>0.510266</td>\n",
       "      <td>17.945354</td>\n",
       "      <td>80754.092589</td>\n",
       "      <td>-419245.907411</td>\n",
       "      <td>-519.163666</td>\n",
       "    </tr>\n",
       "    <tr>\n",
       "      <th>6751</th>\n",
       "      <td>4XJjd</td>\n",
       "      <td>0.484106</td>\n",
       "      <td>-1.024850</td>\n",
       "      <td>1.677779</td>\n",
       "      <td>82.637809</td>\n",
       "      <td>371870.138295</td>\n",
       "      <td>-128129.861705</td>\n",
       "      <td>-34.455539</td>\n",
       "    </tr>\n",
       "    <tr>\n",
       "      <th>...</th>\n",
       "      <td>...</td>\n",
       "      <td>...</td>\n",
       "      <td>...</td>\n",
       "      <td>...</td>\n",
       "      <td>...</td>\n",
       "      <td>...</td>\n",
       "      <td>...</td>\n",
       "      <td>...</td>\n",
       "    </tr>\n",
       "    <tr>\n",
       "      <th>3279</th>\n",
       "      <td>o4b5G</td>\n",
       "      <td>-0.584143</td>\n",
       "      <td>-0.521518</td>\n",
       "      <td>7.174042</td>\n",
       "      <td>79.375961</td>\n",
       "      <td>357191.823100</td>\n",
       "      <td>-142808.176900</td>\n",
       "      <td>-39.980808</td>\n",
       "    </tr>\n",
       "    <tr>\n",
       "      <th>15707</th>\n",
       "      <td>6g9x4</td>\n",
       "      <td>2.993353</td>\n",
       "      <td>2.197475</td>\n",
       "      <td>5.332101</td>\n",
       "      <td>137.688803</td>\n",
       "      <td>619599.613677</td>\n",
       "      <td>119599.613677</td>\n",
       "      <td>19.302726</td>\n",
       "    </tr>\n",
       "    <tr>\n",
       "      <th>18665</th>\n",
       "      <td>v6wLD</td>\n",
       "      <td>-1.488548</td>\n",
       "      <td>-2.780251</td>\n",
       "      <td>2.782762</td>\n",
       "      <td>125.353481</td>\n",
       "      <td>564090.664800</td>\n",
       "      <td>64090.664800</td>\n",
       "      <td>11.361767</td>\n",
       "    </tr>\n",
       "    <tr>\n",
       "      <th>2353</th>\n",
       "      <td>YbZQg</td>\n",
       "      <td>-2.270211</td>\n",
       "      <td>1.144119</td>\n",
       "      <td>0.606399</td>\n",
       "      <td>188.846278</td>\n",
       "      <td>849808.250704</td>\n",
       "      <td>349808.250704</td>\n",
       "      <td>41.163198</td>\n",
       "    </tr>\n",
       "    <tr>\n",
       "      <th>22672</th>\n",
       "      <td>fiNJt</td>\n",
       "      <td>-3.743017</td>\n",
       "      <td>1.893955</td>\n",
       "      <td>4.524686</td>\n",
       "      <td>85.195563</td>\n",
       "      <td>383380.034183</td>\n",
       "      <td>-116619.965817</td>\n",
       "      <td>-30.418894</td>\n",
       "    </tr>\n",
       "  </tbody>\n",
       "</table>\n",
       "<p>5234 rows × 8 columns</p>\n",
       "</div>\n",
       "      <button class=\"colab-df-convert\" onclick=\"convertToInteractive('df-2f1d5d52-fafa-4c3f-902a-f3c2b169c8d3')\"\n",
       "              title=\"Convert this dataframe to an interactive table.\"\n",
       "              style=\"display:none;\">\n",
       "        \n",
       "  <svg xmlns=\"http://www.w3.org/2000/svg\" height=\"24px\"viewBox=\"0 0 24 24\"\n",
       "       width=\"24px\">\n",
       "    <path d=\"M0 0h24v24H0V0z\" fill=\"none\"/>\n",
       "    <path d=\"M18.56 5.44l.94 2.06.94-2.06 2.06-.94-2.06-.94-.94-2.06-.94 2.06-2.06.94zm-11 1L8.5 8.5l.94-2.06 2.06-.94-2.06-.94L8.5 2.5l-.94 2.06-2.06.94zm10 10l.94 2.06.94-2.06 2.06-.94-2.06-.94-.94-2.06-.94 2.06-2.06.94z\"/><path d=\"M17.41 7.96l-1.37-1.37c-.4-.4-.92-.59-1.43-.59-.52 0-1.04.2-1.43.59L10.3 9.45l-7.72 7.72c-.78.78-.78 2.05 0 2.83L4 21.41c.39.39.9.59 1.41.59.51 0 1.02-.2 1.41-.59l7.78-7.78 2.81-2.81c.8-.78.8-2.07 0-2.86zM5.41 20L4 18.59l7.72-7.72 1.47 1.35L5.41 20z\"/>\n",
       "  </svg>\n",
       "      </button>\n",
       "      \n",
       "  <style>\n",
       "    .colab-df-container {\n",
       "      display:flex;\n",
       "      flex-wrap:wrap;\n",
       "      gap: 12px;\n",
       "    }\n",
       "\n",
       "    .colab-df-convert {\n",
       "      background-color: #E8F0FE;\n",
       "      border: none;\n",
       "      border-radius: 50%;\n",
       "      cursor: pointer;\n",
       "      display: none;\n",
       "      fill: #1967D2;\n",
       "      height: 32px;\n",
       "      padding: 0 0 0 0;\n",
       "      width: 32px;\n",
       "    }\n",
       "\n",
       "    .colab-df-convert:hover {\n",
       "      background-color: #E2EBFA;\n",
       "      box-shadow: 0px 1px 2px rgba(60, 64, 67, 0.3), 0px 1px 3px 1px rgba(60, 64, 67, 0.15);\n",
       "      fill: #174EA6;\n",
       "    }\n",
       "\n",
       "    [theme=dark] .colab-df-convert {\n",
       "      background-color: #3B4455;\n",
       "      fill: #D2E3FC;\n",
       "    }\n",
       "\n",
       "    [theme=dark] .colab-df-convert:hover {\n",
       "      background-color: #434B5C;\n",
       "      box-shadow: 0px 1px 3px 1px rgba(0, 0, 0, 0.15);\n",
       "      filter: drop-shadow(0px 1px 2px rgba(0, 0, 0, 0.3));\n",
       "      fill: #FFFFFF;\n",
       "    }\n",
       "  </style>\n",
       "\n",
       "      <script>\n",
       "        const buttonEl =\n",
       "          document.querySelector('#df-2f1d5d52-fafa-4c3f-902a-f3c2b169c8d3 button.colab-df-convert');\n",
       "        buttonEl.style.display =\n",
       "          google.colab.kernel.accessAllowed ? 'block' : 'none';\n",
       "\n",
       "        async function convertToInteractive(key) {\n",
       "          const element = document.querySelector('#df-2f1d5d52-fafa-4c3f-902a-f3c2b169c8d3');\n",
       "          const dataTable =\n",
       "            await google.colab.kernel.invokeFunction('convertToInteractive',\n",
       "                                                     [key], {});\n",
       "          if (!dataTable) return;\n",
       "\n",
       "          const docLinkHtml = 'Like what you see? Visit the ' +\n",
       "            '<a target=\"_blank\" href=https://colab.research.google.com/notebooks/data_table.ipynb>data table notebook</a>'\n",
       "            + ' to learn more about interactive tables.';\n",
       "          element.innerHTML = '';\n",
       "          dataTable['output_type'] = 'display_data';\n",
       "          await google.colab.output.renderOutput(dataTable, element);\n",
       "          const docLink = document.createElement('div');\n",
       "          docLink.innerHTML = docLinkHtml;\n",
       "          element.appendChild(docLink);\n",
       "        }\n",
       "      </script>\n",
       "    </div>\n",
       "  </div>\n",
       "  "
      ],
      "text/plain": [
       "          id        f0        f1        f2     product        profits  \\\n",
       "22636  LJPET  1.465277 -3.147184  6.994110   32.884988  147982.447518   \n",
       "24690  zTrp8  0.982777  1.354353  8.074194  128.080040  576360.179318   \n",
       "7811   3t5IE -0.923889  1.838607  1.761442   97.339415  438027.369335   \n",
       "1581   Dw4Qr  0.114790 -0.025999  0.510266   17.945354   80754.092589   \n",
       "6751   4XJjd  0.484106 -1.024850  1.677779   82.637809  371870.138295   \n",
       "...      ...       ...       ...       ...         ...            ...   \n",
       "3279   o4b5G -0.584143 -0.521518  7.174042   79.375961  357191.823100   \n",
       "15707  6g9x4  2.993353  2.197475  5.332101  137.688803  619599.613677   \n",
       "18665  v6wLD -1.488548 -2.780251  2.782762  125.353481  564090.664800   \n",
       "2353   YbZQg -2.270211  1.144119  0.606399  188.846278  849808.250704   \n",
       "22672  fiNJt -3.743017  1.893955  4.524686   85.195563  383380.034183   \n",
       "\n",
       "        gross_profit  gross_profit_margin  \n",
       "22636 -352017.552482          -237.877909  \n",
       "24690   76360.179318            13.248691  \n",
       "7811   -61972.630665           -14.148118  \n",
       "1581  -419245.907411          -519.163666  \n",
       "6751  -128129.861705           -34.455539  \n",
       "...              ...                  ...  \n",
       "3279  -142808.176900           -39.980808  \n",
       "15707  119599.613677            19.302726  \n",
       "18665   64090.664800            11.361767  \n",
       "2353   349808.250704            41.163198  \n",
       "22672 -116619.965817           -30.418894  \n",
       "\n",
       "[5234 rows x 8 columns]"
      ]
     },
     "execution_count": 480,
     "metadata": {},
     "output_type": "execute_result"
    }
   ],
   "source": [
    "geo2_predicted = profi_table(geo2_presidcted)\n",
    "geo2_predicted"
   ]
  },
  {
   "cell_type": "markdown",
   "metadata": {
    "id": "7USpCigysUUM"
   },
   "source": [
    "Ahora estudiaremos por separado como se distribuye la media de los benefcios y la media de los que no nos dan retorno de inversión, los primeros 500 valores"
   ]
  },
  {
   "cell_type": "code",
   "execution_count": 484,
   "metadata": {
    "id": "vV9lm3v5bXhp"
   },
   "outputs": [],
   "source": [
    "geo0_profits = geo0_predicted[geo0_predicted['gross_profit']>0].sort_values('gross_profit',ascending = False).reset_index(drop = True)[:500]\n",
    "geo2_profits = geo2_predicted[geo2_predicted['gross_profit']>0].sort_values('gross_profit',ascending = False).reset_index(drop = True)[:500]"
   ]
  },
  {
   "cell_type": "code",
   "execution_count": 483,
   "metadata": {
    "id": "nlUAL2oXb6sb"
   },
   "outputs": [],
   "source": [
    "geo0_noprofits = geo0_predicted[geo0_predicted['gross_profit']<0].sort_values('gross_profit',ascending = False).reset_index(drop = True)[:500]\n",
    "geo2_noprofits = geo2_predicted[geo2_predicted['gross_profit']<0].sort_values('gross_profit',ascending = False).reset_index(drop = True)[:500]"
   ]
  },
  {
   "cell_type": "markdown",
   "metadata": {
    "id": "ZIphZZCrsnSN"
   },
   "source": [
    "Ahora estudiaremos cual es la media de beneficio bruto obtenida por medio del metodo del Bootstrapping utilizando 1000 muestras, para obtener así el intervalo de confianza de cada una de las dos regiones"
   ]
  },
  {
   "cell_type": "code",
   "execution_count": 485,
   "metadata": {
    "id": "FC9aKOEBfPVT"
   },
   "outputs": [],
   "source": [
    "def Bootstrapping(serie):\n",
    "  serie = pd.Series(serie)\n",
    "  state = np.random.RandomState(12345)\n",
    "  values = []\n",
    "  for i in range(1000):\n",
    "      subsample = serie.sample(frac = 10, replace = True, random_state = state)\n",
    "      q = subsample.mean()\n",
    "      values.append(q)\n",
    "\n",
    "  values = pd.Series(values)\n",
    "  lower = values.quantile(0.025)\n",
    "  upper = values.quantile(0.975)\n",
    "\n",
    "  print(f'El intervalo de confianza está entre: ({round(lower,2)} , {round(upper,2)})')\n"
   ]
  },
  {
   "cell_type": "code",
   "execution_count": 486,
   "metadata": {
    "colab": {
     "base_uri": "https://localhost:8080/"
    },
    "id": "sKw1OQ8LrXwr",
    "outputId": "d363504e-62a1-41dc-c3b3-4c6d04e0f7fa"
   },
   "outputs": [
    {
     "name": "stdout",
     "output_type": "stream",
     "text": [
      "El intervalo de confianza está entre: (240854.85 , 243360.29)\n"
     ]
    }
   ],
   "source": [
    "Bootstrapping(geo0_profits['gross_profit'])"
   ]
  },
  {
   "cell_type": "markdown",
   "metadata": {
    "id": "lOjzkTzctIz5"
   },
   "source": [
    "La región 0 tiene un media real de beneficio bruto que se encuentra entre 240854.85USD y 243360.29USD"
   ]
  },
  {
   "cell_type": "code",
   "execution_count": 487,
   "metadata": {
    "colab": {
     "base_uri": "https://localhost:8080/"
    },
    "id": "a4j_Ga2dtWqd",
    "outputId": "9aef0968-edee-4436-c18a-18ee21be8d33"
   },
   "outputs": [
    {
     "name": "stdout",
     "output_type": "stream",
     "text": [
      "El intervalo de confianza está entre: (257273.18 , 259739.84)\n"
     ]
    }
   ],
   "source": [
    "Bootstrapping(geo2_profits['gross_profit'])"
   ]
  },
  {
   "cell_type": "markdown",
   "metadata": {
    "id": "4_zqao5Iv1TT"
   },
   "source": [
    "La región 2 por otro lado tiene un media real de beneficio bruto que se encuentra entre 257273.18USD y 259739.84USD"
   ]
  },
  {
   "cell_type": "markdown",
   "metadata": {
    "id": "STOJGOEqv94T"
   },
   "source": [
    "Podemos observar que de media, la región 2 tiene una mayor potencial de ingresos, obteneidno un beneficio medio mayor, así mismo se prode a analzar las perdidas"
   ]
  },
  {
   "cell_type": "code",
   "execution_count": 400,
   "metadata": {
    "colab": {
     "base_uri": "https://localhost:8080/"
    },
    "id": "4xRWnYZ0b4xC",
    "outputId": "898b04d1-1316-440d-d0b0-853563125a50"
   },
   "outputs": [
    {
     "name": "stdout",
     "output_type": "stream",
     "text": [
      "El intervalo de confianza está entre: (-12594.34 , -11991.05)\n"
     ]
    }
   ],
   "source": [
    "Bootstrapping(geo0_noprofits['gross_profit'])"
   ]
  },
  {
   "cell_type": "markdown",
   "metadata": {
    "id": "9N-Rz33AwPML"
   },
   "source": [
    "En este caso, vemos con la media de las perdias se encutran entre -12594.34USD y -11991.05USD siendo bastante bajas en comparación a los beneficios que se pueden obtener."
   ]
  },
  {
   "cell_type": "code",
   "execution_count": 398,
   "metadata": {
    "colab": {
     "base_uri": "https://localhost:8080/"
    },
    "id": "3cHPM7POcCsh",
    "outputId": "5db80713-4df2-4592-e754-61efab301544"
   },
   "outputs": [
    {
     "name": "stdout",
     "output_type": "stream",
     "text": [
      "El intervalo de confianza está entre: (-11327.19 , -10855.65)\n"
     ]
    }
   ],
   "source": [
    "Bootstrapping(geo2_noprofits['gross_profit'])"
   ]
  },
  {
   "cell_type": "markdown",
   "metadata": {
    "id": "tCWHbXWNwhQg"
   },
   "source": [
    "En este caso, vemos con la media de las perdias se encutran entre -11327.19USD y -10855.65USD siendo una cifra incluso menor a la anterior"
   ]
  },
  {
   "cell_type": "markdown",
   "metadata": {
    "id": "zJiUA-yYwr5F"
   },
   "source": [
    "Ya se puede ir visualizando cual es la región que mayor ganancias va a generar, sin embargo, aún falta el calculo del riesgo, el cual lo obtendremos mediante el calculo de la probabilidad de ocurrencia de fracasos en la excavación de pozos para una muestra de 1000 pozos, para ello se realizará el cálculo de de una ensayo de distribución binomial"
   ]
  },
  {
   "cell_type": "code",
   "execution_count": 405,
   "metadata": {
    "id": "I-EBkoYdyl-g"
   },
   "outputs": [],
   "source": [
    "def probabilidad(df):\n",
    "  failure_rate = df[df['gross_profit_margin']<0].shape[0]/df.shape[0] \n",
    "  wells = 1000\n",
    "  distr = []\n",
    "\n",
    "  for k in range(0,wells+1):\n",
    "      choose = factorial(wells ) / (factorial(k)*factorial(wells-k))\n",
    "      prob = choose * failure_rate**k*(1-failure_rate)**(wells-k)\n",
    "      distr.append(prob)\n",
    "  \n",
    "  # crea un histograma de la distribución de probabilidad\n",
    "  plt.bar(range(0, wells + 1), distr)"
   ]
  },
  {
   "cell_type": "markdown",
   "metadata": {
    "id": "9FyZ4pt0xE_T"
   },
   "source": [
    "Utilizando la función anterior y la tabla con los valores que predijo el modelo se realiza el cálculo del riesgo de inversión"
   ]
  },
  {
   "cell_type": "code",
   "execution_count": 488,
   "metadata": {
    "colab": {
     "base_uri": "https://localhost:8080/",
     "height": 265
    },
    "id": "8rJX_-I12vnh",
    "outputId": "30de1fce-1352-47cf-87d0-a21041e6c0b6"
   },
   "outputs": [
    {
     "data": {
      "image/png": "[encoded data removed]",
      "text/plain": [
       "<Figure size 432x288 with 1 Axes>"
      ]
     },
     "metadata": {
      "needs_background": "light"
     },
     "output_type": "display_data"
    }
   ],
   "source": [
    "probabilidad(geo0_predicted)"
   ]
  },
  {
   "cell_type": "code",
   "execution_count": 489,
   "metadata": {
    "colab": {
     "base_uri": "https://localhost:8080/",
     "height": 265
    },
    "id": "2m0tXI1b3aUz",
    "outputId": "5f90079a-572e-412c-ecad-f9d5d62644b9"
   },
   "outputs": [
    {
     "data": {
      "image/png": "[encoded data removed]",
      "text/plain": [
       "<Figure size 432x288 with 1 Axes>"
      ]
     },
     "metadata": {
      "needs_background": "light"
     },
     "output_type": "display_data"
    }
   ],
   "source": [
    "probabilidad(geo2_predicted)"
   ]
  },
  {
   "cell_type": "markdown",
   "metadata": {
    "id": "_18FZTQWyj_v"
   },
   "source": [
    "Como se puede observar el riesgo está en torno al 2.5% con distribuciones normales practicamente identicas para cada región. Sin embargo para la región 1 se ividencia una distribución normal con una desviación estandar más cerrada, lo que indica una mayor presición y mnenos desviación en los resultados, además de que la cresta está ligeramente más a la izquierda que la anterior, haciando notar que tiene un margen de error un poco menor que la región 0"
   ]
  },
  {
   "cell_type": "markdown",
   "metadata": {
    "id": "GwqNesweyxyh"
   },
   "source": [
    "Así mismo estudiando la media de los margenes tenemos"
   ]
  },
  {
   "cell_type": "code",
   "execution_count": 491,
   "metadata": {
    "colab": {
     "base_uri": "https://localhost:8080/"
    },
    "id": "kaLAb1z7ybQr",
    "outputId": "f87036be-c3a8-4247-940e-9a42d57ea077"
   },
   "outputs": [
    {
     "name": "stdout",
     "output_type": "stream",
     "text": [
      "El intervalo de confianza está entre: (32.27 , 32.49)\n"
     ]
    }
   ],
   "source": [
    "Bootstrapping(geo0_profits['gross_profit_margin'])"
   ]
  },
  {
   "cell_type": "code",
   "execution_count": 492,
   "metadata": {
    "colab": {
     "base_uri": "https://localhost:8080/"
    },
    "id": "gn2tsvWCyfQM",
    "outputId": "2c35e274-acb7-4160-b87b-94701f4b9868"
   },
   "outputs": [
    {
     "name": "stdout",
     "output_type": "stream",
     "text": [
      "El intervalo de confianza está entre: (33.76 , 33.96)\n"
     ]
    }
   ],
   "source": [
    "Bootstrapping(geo2_profits['gross_profit_margin'])"
   ]
  },
  {
   "cell_type": "markdown",
   "metadata": {
    "id": "MJsPjOr5y3iD"
   },
   "source": [
    "La media del margen bruto para los mejores 500 pozos entorno al 32.3% para el caso de la región 0 y del 33.86% para la región 2, pudiendo concluir que esta es la región que se debe seleccionar para la realización de los mismos."
   ]
  },
  {
   "cell_type": "markdown",
   "metadata": {
    "id": "3RnkWKJpxqsu"
   },
   "source": [
    "### **CONCLUSIÓN INTERMEDIA**"
   ]
  },
  {
   "cell_type": "markdown",
   "metadata": {
    "id": "Ea1H2gXixSkP"
   },
   "source": [
    "Como se observa para mabos casos tenemos un máximo edel 2.5% de proobabilidades de que en torno a 600 pozos tengan rendiemintos negativos, aproximadamente el 60% de los casos, sin embargo, observando los beneficios que se pueden obtener en contraposición de las perdidas, podemos concluir que el retorno de la inversión será positivo, y tenemos más de un 40% de acierto con margenes brutos aproximados 33% de retorno de la inversión estando de nuestro lado la probablidad de generar ganancias"
   ]
  },
  {
   "cell_type": "markdown",
   "metadata": {
    "id": "4nC6Dwf3haY2"
   },
   "source": [
    "## **CONCLUSIÓN GENERAL**"
   ]
  },
  {
   "cell_type": "markdown",
   "metadata": {
    "id": "-sWqzwM_zeTr"
   },
   "source": [
    "Los datos se encontraban bastante limpios y ordenados, adémas se obtuvo un buen modelo que para 3 casos diferentes consiguió una uniformeidad en sus predicciones con un REMC de entorno al 38% para todos los caso siendo estos valores mas cercanos a 0 en norma general, que es lo que se quere, con lo cual se tiene una predicción más fidedigna de los resultados.\n",
    "\n",
    "Así mismo el cálculo de los beneficios brutos obtenidos fueron favorables para la región 2, haciendo notar que presenta menos perdidas y mayores ganancias en promedio según el intervalo de confianza, además en el calculo de la probabilidad de perdida del 2.5%, demostró las mismas son un tanto menores para el caso de esta región pudiendo concluir que la sugerencia como mejor elección siendo más rentable para la generación de pozos petoleros sin dudas en la región 2 ya que presenta más ganancias y menos perdidas en promedio además de que el riesgo de perdidas es un tanto menor que el de la región 0 y 1."
   ]
  }
 ],
 "metadata": {
  "colab": {
   "provenance": []
  },
  "kernelspec": {
   "display_name": "Python 3 (ipykernel)",
   "language": "python",
   "name": "python3"
  },
  "language_info": {
   "codemirror_mode": {
    "name": "ipython",
    "version": 3
   },
   "file_extension": ".py",
   "mimetype": "text/x-python",
   "name": "python",
   "nbconvert_exporter": "python",
   "pygments_lexer": "ipython3",
   "version": "3.9.5"
  },
  "toc": {
   "base_numbering": 1,
   "nav_menu": {},
   "number_sections": true,
   "sideBar": true,
   "skip_h1_title": true,
   "title_cell": "Table of Contents",
   "title_sidebar": "Contents",
   "toc_cell": false,
   "toc_position": {},
   "toc_section_display": true,
   "toc_window_display": false
  }
 },
 "nbformat": 4,
 "nbformat_minor": 1
}
